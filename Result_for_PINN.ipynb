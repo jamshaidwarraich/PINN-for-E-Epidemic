{
  "cells": [
    {
      "cell_type": "markdown",
      "metadata": {
        "id": "dWGci-Ielh_J"
      },
      "source": [
        "Import Libraries"
      ]
    },
    {
      "cell_type": "markdown",
      "metadata": {
        "id": "cxfp94pwmydT"
      },
      "source": [
        "Define ODEs system"
      ]
    },
    {
      "cell_type": "code",
      "execution_count": null,
      "metadata": {
        "id": "omKP_hbVmu2D"
      },
      "outputs": [],
      "source": [
        "# Define the system of ODEs\n",
        "def system_ode(y, t, b, D1, D2, D3, Beta, Alpha, Mu, Eta):\n",
        "    S, I1, I2, R = y\n",
        "\n",
        "    # Equations\n",
        "    dS_dt = b - (Beta * S * I1) - (D1 * S)\n",
        "    dI1_dt = (Beta * S * I1) - ((D1 + D2 + Alpha) * I1) + (Eta * I1)\n",
        "    dI2_dt = (Alpha * I1) - ((D2 + D3 + D3 + Mu) * I2)\n",
        "    dR_dt = (Mu * I2) - ((D1 + D2) * R)\n",
        "\n",
        "    return [dS_dt, dI1_dt, dI2_dt, dR_dt]"
      ]
    },
    {
      "cell_type": "markdown",
      "metadata": {
        "id": "cnRg28ROmxLb"
      },
      "source": [
        "Simulate System Dynamics"
      ]
    },
    {
      "cell_type": "code",
      "execution_count": null,
      "metadata": {
        "id": "Hx7UpZb2nBEs"
      },
      "outputs": [],
      "source": [
        "# Generate synthetic data\n",
        "def generate_data(params, initial_conditions, t):\n",
        "    return odeint(system_ode, initial_conditions, t, args=params)\n",
        "\n",
        "# Normalize data\n",
        "def normalize(data, data_min=None, data_max=None):\n",
        "    if data_min is None or data_max is None:\n",
        "        data_min, data_max = np.min(data, axis=0), np.max(data, axis=0)\n",
        "    return (data - data_min) / (data_max - data_min), data_min, data_max\n",
        "\n",
        "# Denormalize data\n",
        "def denormalize(data, data_min, data_max):\n",
        "    return data * (data_max - data_min) + data_min"
      ]
    },
    {
      "cell_type": "markdown",
      "metadata": {
        "id": "eosA4LSdnYrC"
      },
      "source": [
        "Train the PINN model"
      ]
    },
    {
      "cell_type": "code",
      "execution_count": null,
      "metadata": {
        "id": "rrvfuqNonXFi"
      },
      "outputs": [],
      "source": [
        " # Training function\n",
        "def train_pinn(model, X_train, Y_train, epochs=5000, learning_rate=1e-5):\n",
        "    optimizer = tf.keras.optimizers.Adam(learning_rate=learning_rate)\n",
        "    loss_history = []\n",
        "\n",
        "    for epoch in range(epochs):\n",
        "        with tf.GradientTape() as tape:\n",
        "            predictions = model(X_train)\n",
        "            loss = tf.reduce_mean(tf.square(predictions - Y_train))\n",
        "\n",
        "        gradients = tape.gradient(loss, model.trainable_variables)\n",
        "        optimizer.apply_gradients(zip(gradients, model.trainable_variables))\n",
        "\n",
        "        loss_history.append(loss.numpy())\n",
        "        if epoch % 100 == 0:\n",
        "            print(f\"Epoch {epoch}, Loss: {loss.numpy()}\")\n",
        "\n",
        "    return loss_history"
      ]
    },
    {
      "cell_type": "markdown",
      "metadata": {
        "id": "-1Nd5W-TnuG3"
      },
      "source": [
        "Define parameters"
      ]
    },
    {
      "cell_type": "code",
      "execution_count": null,
      "metadata": {
        "id": "fbWHsKCdYbpq"
      },
      "outputs": [],
      "source": [
        "\n",
        "# Generate data and normalize\n",
        "synthetic_data = generate_data(params, initial_conditions, t)\n",
        "synthetic_data, y_min, y_max = normalize(synthetic_data)\n",
        "t, t_min, t_max = normalize(t.reshape(-1, 1))\n",
        "\n",
        "# Convert to tensors\n",
        "X_train = tf.convert_to_tensor(t, dtype=tf.float32)\n",
        "Y_train = tf.convert_to_tensor(synthetic_data, dtype=tf.float32)\n"
      ]
    },
    {
      "cell_type": "markdown",
      "metadata": {
        "id": "uQY__Kfonzco"
      },
      "source": [
        "plot Loss"
      ]
    },
    {
      "cell_type": "code",
      "execution_count": null,
      "metadata": {
        "id": "23t7XGton19p"
      },
      "outputs": [],
      "source": [
        "\n",
        "# Initialize and train the PINN\n",
        "\n",
        "# Plot training loss\n",
        "plt.plot(loss_history)\n",
        "plt.xlabel(\"Epochs\")\n",
        "plt.ylabel(\"Loss\")\n",
        "plt.title(\"Training Loss\")\n",
        "plt.show()\n",
        "\n",
        "# Predict and denormalize results\n",
        "predictions = model(X_train).numpy()\n",
        "predictions = denormalize(predictions, y_min, y_max)\n",
        "synthetic_data = denormalize(synthetic_data, y_min, y_max)\n",
        "\n",
        "# Plot results\n",
        "labels = ['S', 'I1', 'I2', 'R']\n",
        "for i in range(4):\n",
        "    plt.figure(figsize=(10, 6))\n",
        "    plt.plot(denormalize(t, t_min, t_max), synthetic_data[:, i], label=\"Ground Truth\")\n",
        "    plt.plot(denormalize(t, t_min, t_max), predictions[:, i], \"--\", label=\"PINN Prediction\")\n",
        "    plt.xlabel(\"Time (days)\")\n",
        "    plt.ylabel(labels[i])\n",
        "    plt.legend()\n",
        "    plt.title(f\"{labels[i]} Population Dynamics\")\n",
        "    plt.show()"
      ]
    }
  ],
  "metadata": {
    "colab": {
      "provenance": []
    },
    "kernelspec": {
      "display_name": "Python 3",
      "name": "python3"
    },
    "language_info": {
      "name": "python"
    }
  },
  "nbformat": 4,
  "nbformat_minor": 0
}